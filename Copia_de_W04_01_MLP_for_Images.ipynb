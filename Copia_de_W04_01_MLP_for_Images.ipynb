{
  "cells": [
    {
      "cell_type": "markdown",
      "metadata": {
        "id": "view-in-github",
        "colab_type": "text"
      },
      "source": [
        "<a href=\"https://colab.research.google.com/github/jordicalbetescandell/XANP2022-23/blob/main/Copia_de_W04_01_MLP_for_Images.ipynb\" target=\"_parent\"><img src=\"https://colab.research.google.com/assets/colab-badge.svg\" alt=\"Open In Colab\"/></a>"
      ]
    },
    {
      "cell_type": "markdown",
      "metadata": {
        "id": "yfTJScL5nTRc"
      },
      "source": [
        "# MLP for image classification\n",
        "\n",
        "In this notebook we are going to learn how to use a Multi-Layer Perceptron (MLP) for clasifing images. \n",
        "\n",
        "A MLP like the ones you used in the notebook of last week can be used with any kind of input data if we can represent it with a vector of real numbers. The shape of the input vector determines the size of the first layer in the model. In the case of images (2d arrays of pixel values) we can get fixed-lenght vectors by: (1) using images of the same size in all our dataset, and (2) flatenning the images into a 1d array. The flatten operation collapses an array into one dimension. For example, if we have a grayscale image of 28*28 pixels, its flattened version is a 1d array of 784 pixel values. Now we can fed these 784 values into a MLP for classifiying the image."
      ]
    },
    {
      "cell_type": "markdown",
      "metadata": {
        "id": "KpIY1khOnTRf"
      },
      "source": [
        "### Import the necessary libraries"
      ]
    },
    {
      "cell_type": "code",
      "execution_count": 1,
      "metadata": {
        "id": "LLH_MoYJyaM0"
      },
      "outputs": [],
      "source": [
        "import torch #should be installed by default in any colab notebook\n",
        "import numpy as np\n",
        "import matplotlib.pyplot as plt\n",
        "from IPython import display\n",
        "import torch.nn as nn\n",
        "import torch.nn.functional as F\n",
        "import torch.optim as optim\n",
        "from torchvision import datasets, transforms\n",
        "import matplotlib.pyplot as plt"
      ]
    },
    {
      "cell_type": "markdown",
      "metadata": {
        "id": "3XtkV2LonTRk"
      },
      "source": [
        "### Use GPU if available"
      ]
    },
    {
      "cell_type": "code",
      "execution_count": 2,
      "metadata": {
        "id": "GfRs9RjvyaM1"
      },
      "outputs": [],
      "source": [
        "# If this cell fails you need to change the runtime of your colab notebook to GPU\n",
        "# Go to Runtime -> Change Runtime Type and select GPU\n",
        "assert torch.cuda.is_available(), \"GPU is not enabled\"\n",
        "\n",
        "# use gpu if available\n",
        "device = torch.device(\"cuda:0\" if torch.cuda.is_available() else \"cpu\")"
      ]
    },
    {
      "cell_type": "markdown",
      "metadata": {
        "id": "s3hfBZ3WyaM1"
      },
      "source": [
        "## The Fashion-MNIST dataset\n",
        "\n",
        "[**Fashion-MNIST**](https://pytorch.org/vision/0.8/datasets.html#fashion-mnist) is a dataset consisting of a training set of 60,000 examples and a test set of 10,000 examples. Each example is a 28x28 grayscale image, associated with a label from 10 classes. It was poroposed as a direct drop-in replacement for the original MNIST dataset for benchmarking machine learning algorithms. It shares the same image size and structure of training and testing splits.\n",
        "\n",
        "Each training and test example is assigned to one of the following labels: 0 T-shirt/top, 1 Trouser, 2 Pullover, 3 Dress, 4 Coat, 5 Sandal, 6 Shirt, 7 Sneaker, 8 Bag, 9 Ankle boot.\n",
        "\n",
        "The Fashion-MNIST dataset is available in [torchvision](https://pytorch.org/vision/stable/index.html) and can be loaded with the following code:\n"
      ]
    },
    {
      "cell_type": "code",
      "execution_count": 3,
      "metadata": {
        "id": "TDw1ZjZByaM2",
        "colab": {
          "base_uri": "https://localhost:8080/",
          "height": 457,
          "referenced_widgets": [
            "e2431a29b77b4dbea608595f0935cca9",
            "a205a927a483466c93250e7633c14761",
            "b787701e49d84bf799b6c4d0b4a494d9",
            "226ac5cb83854ae9bdee132c3733eb65",
            "eb69ee8025b34a0f8c1c56b3d2d4eb97",
            "1f40ed78a098480abe81d641c7033883",
            "d5aad0e32d864bb1b747d33d9d4ed428",
            "6ca03938fb624560a32deed778834e1b",
            "3f41d1abe29343438d3f46df0c7a1a30",
            "48fa82758cd3487ab6ea87ddc330598e",
            "e4c30c8fb0f84c37b291cb473e41804a",
            "2861c6cbd11d4c7298bf190eacb26acf",
            "a2d9ff90e32a4e28a997e0b55b323931",
            "b11e5b230a7b4949a16fe80573720eb2",
            "2efb8fa20a754337bd023469082501d8",
            "679128168de94ee3a342f7e5bd4e34a1",
            "6076b417ac7e4a118a34436954cd4cfa",
            "c852a1b149c24a3ea17184b4515c3a98",
            "1872819533d249158cf4e03c9128f108",
            "54db21f1e062457dba0760b5c270b5f5",
            "0d50c070fc774f58b99ae5608c858f08",
            "bc937b871eda46d68498580f6e2518bb",
            "10bd7fc596ab4056a5a2f0c22ba6fdef",
            "29af8d3eb6534b5ab5b7738c9a7aff83",
            "c97614d7735848feabb34401ec00c0f4",
            "4f63ea6a9efd4312b2b0e548d1e211bb",
            "4ad8755951af4d59a5c8d462fcd440df",
            "81710e5f44cb46d98449b1610853f1a0",
            "c7ee95b1e1e14d88a17c08ece7cdd568",
            "2b135666cf654e36a87f778d6b45b753",
            "bc4d3c3824694f429e32416fa458f92e",
            "6a35fdd92504434fa1dcfadd7354b640",
            "60e7f64563a1411a9fc89fd7678d527a",
            "b18738e639204493a6daacf0325a029b",
            "10341c991ccf423483637b646be157dc",
            "444c9e68905845fb90853b7b84519b46",
            "7b037ac3a6614371bc7a6b3a84faf30b",
            "7983940bab5e419f996358050e662a13",
            "9c17ed24ced14151aa4ba233cf43beb7",
            "d058b709c745402c9e77266d050d3064",
            "5ae39f0cc5dd4d61a968b5bc1aaa3bce",
            "d19eae8cf3fb4b599029d0218f6c6da0",
            "76b554d3f55b4cbeacf48c93547e22c0",
            "a71ccdc45f1c466d9340278fe0f727c6"
          ]
        },
        "outputId": "8605ee4f-cf37-4358-93dc-8af458391b26"
      },
      "outputs": [
        {
          "output_type": "stream",
          "name": "stdout",
          "text": [
            "Downloading http://fashion-mnist.s3-website.eu-central-1.amazonaws.com/train-images-idx3-ubyte.gz\n",
            "Downloading http://fashion-mnist.s3-website.eu-central-1.amazonaws.com/train-images-idx3-ubyte.gz to data/FashionMNIST/raw/train-images-idx3-ubyte.gz\n"
          ]
        },
        {
          "output_type": "display_data",
          "data": {
            "text/plain": [
              "  0%|          | 0/26421880 [00:00<?, ?it/s]"
            ],
            "application/vnd.jupyter.widget-view+json": {
              "version_major": 2,
              "version_minor": 0,
              "model_id": "e2431a29b77b4dbea608595f0935cca9"
            }
          },
          "metadata": {}
        },
        {
          "output_type": "stream",
          "name": "stdout",
          "text": [
            "Extracting data/FashionMNIST/raw/train-images-idx3-ubyte.gz to data/FashionMNIST/raw\n",
            "\n",
            "Downloading http://fashion-mnist.s3-website.eu-central-1.amazonaws.com/train-labels-idx1-ubyte.gz\n",
            "Downloading http://fashion-mnist.s3-website.eu-central-1.amazonaws.com/train-labels-idx1-ubyte.gz to data/FashionMNIST/raw/train-labels-idx1-ubyte.gz\n"
          ]
        },
        {
          "output_type": "display_data",
          "data": {
            "text/plain": [
              "  0%|          | 0/29515 [00:00<?, ?it/s]"
            ],
            "application/vnd.jupyter.widget-view+json": {
              "version_major": 2,
              "version_minor": 0,
              "model_id": "2861c6cbd11d4c7298bf190eacb26acf"
            }
          },
          "metadata": {}
        },
        {
          "output_type": "stream",
          "name": "stdout",
          "text": [
            "Extracting data/FashionMNIST/raw/train-labels-idx1-ubyte.gz to data/FashionMNIST/raw\n",
            "\n",
            "Downloading http://fashion-mnist.s3-website.eu-central-1.amazonaws.com/t10k-images-idx3-ubyte.gz\n",
            "Downloading http://fashion-mnist.s3-website.eu-central-1.amazonaws.com/t10k-images-idx3-ubyte.gz to data/FashionMNIST/raw/t10k-images-idx3-ubyte.gz\n"
          ]
        },
        {
          "output_type": "display_data",
          "data": {
            "text/plain": [
              "  0%|          | 0/4422102 [00:00<?, ?it/s]"
            ],
            "application/vnd.jupyter.widget-view+json": {
              "version_major": 2,
              "version_minor": 0,
              "model_id": "10bd7fc596ab4056a5a2f0c22ba6fdef"
            }
          },
          "metadata": {}
        },
        {
          "output_type": "stream",
          "name": "stdout",
          "text": [
            "Extracting data/FashionMNIST/raw/t10k-images-idx3-ubyte.gz to data/FashionMNIST/raw\n",
            "\n",
            "Downloading http://fashion-mnist.s3-website.eu-central-1.amazonaws.com/t10k-labels-idx1-ubyte.gz\n",
            "Downloading http://fashion-mnist.s3-website.eu-central-1.amazonaws.com/t10k-labels-idx1-ubyte.gz to data/FashionMNIST/raw/t10k-labels-idx1-ubyte.gz\n"
          ]
        },
        {
          "output_type": "display_data",
          "data": {
            "text/plain": [
              "  0%|          | 0/5148 [00:00<?, ?it/s]"
            ],
            "application/vnd.jupyter.widget-view+json": {
              "version_major": 2,
              "version_minor": 0,
              "model_id": "b18738e639204493a6daacf0325a029b"
            }
          },
          "metadata": {}
        },
        {
          "output_type": "stream",
          "name": "stdout",
          "text": [
            "Extracting data/FashionMNIST/raw/t10k-labels-idx1-ubyte.gz to data/FashionMNIST/raw\n",
            "\n",
            "torch.Size([60000, 28, 28]) torch.Size([10000, 28, 28])\n",
            "torch.Size([60000]) torch.Size([10000])\n"
          ]
        }
      ],
      "source": [
        "train_set = datasets.FashionMNIST(\"data\", train=True, download=True, transform=transforms.Compose([transforms.ToTensor()]))\n",
        "val_set = datasets.FashionMNIST(\"data\", train=False, download=True, transform=transforms.Compose([transforms.ToTensor()]))\n",
        "\n",
        "print(train_set.data.size(), val_set.data.size())\n",
        "print(train_set.targets.size(), val_set.targets.size())"
      ]
    },
    {
      "cell_type": "code",
      "execution_count": 4,
      "metadata": {
        "id": "urv5hGkLnTRr",
        "colab": {
          "base_uri": "https://localhost:8080/",
          "height": 357
        },
        "outputId": "19fc4ae2-e881-4b11-e71c-396b935f6c9f"
      },
      "outputs": [
        {
          "output_type": "display_data",
          "data": {
            "text/plain": [
              "<Figure size 1152x432 with 10 Axes>"
            ],
            "image/png": "[encoded data removed]"
          },
          "metadata": {
            "needs_background": "light"
          }
        }
      ],
      "source": [
        "# show some images\n",
        "plt.figure(figsize=(16, 6))\n",
        "for i in range(10):\n",
        "    plt.subplot(2, 5, i + 1)\n",
        "    image = train_set.data[i,...]\n",
        "    plt.imshow(image.squeeze().numpy(), cmap=\"gray\")\n",
        "    plt.axis('off');"
      ]
    },
    {
      "cell_type": "markdown",
      "metadata": {
        "id": "oHhFOeFcnTRt"
      },
      "source": [
        "## The dataloaders\n",
        "\n",
        "Now we introduce a **critical piece in any deep learning training process**: the dataloader. In Pytorch we can create a dataloader for a given dataset as follows:\n"
      ]
    },
    {
      "cell_type": "code",
      "execution_count": 5,
      "metadata": {
        "id": "fXyxrKOwnTRu"
      },
      "outputs": [],
      "source": [
        "train_loader = torch.utils.data.DataLoader(train_set, batch_size=1, shuffle=False, num_workers=0)\n",
        "val_loader = torch.utils.data.DataLoader(val_set, batch_size=1, shuffle=False, num_workers=0)"
      ]
    },
    {
      "cell_type": "markdown",
      "metadata": {
        "id": "XZGjAO0yyaM5"
      },
      "source": [
        "# Exercise 1\n",
        "\n",
        "1.1. Take a look at the documentation of [torch.utils.data.DataLoader](https://pytorch.org/docs/stable/data.html?highlight=dataloader#torch.utils.data.DataLoader) and answer the following questions:\n",
        "\n",
        "- What are the benefits of a dataloader?\n",
        "- How can we make the dataloaders defined above better? \n",
        "\n",
        "1.2. When we loaded the Fashion-MNIST dataset we used the method `transforms.Compose`. Take a look at the documentation of [torchvision.transforms](https://pytorch.org/vision/0.8/transforms.html?highlight=transforms) and answer the following question:\n",
        "\n",
        "- Is there another transform that we can add to make our classification problem easier?"
      ]
    },
    {
      "cell_type": "code",
      "source": [
        "transform = transforms.Compose([transforms.ToTensor(),\n",
        "                                transforms.Normalize((0.2860,), (0.3205,))])\n",
        "\n",
        "train_set = datasets.FashionMNIST(\"data\", train=True, download=True, transform=transforms.Compose([transforms.ToTensor()]))\n",
        "val_set = datasets.FashionMNIST(\"data\", train=False, download=True, transform=transforms.Compose([transforms.ToTensor()]))\n",
        "\n",
        "train_loader = torch.utils.data.DataLoader(train_set, batch_size=32, shuffle=True, num_workers=5)\n",
        "val_loader = torch.utils.data.DataLoader(val_set, batch_size=32, shuffle=True, num_workers=5)"
      ],
      "metadata": {
        "id": "9wYmUJZwnoRn",
        "colab": {
          "base_uri": "https://localhost:8080/"
        },
        "outputId": "e7c89b08-5e38-428e-d280-02eb3a60ec6c"
      },
      "execution_count": 6,
      "outputs": [
        {
          "output_type": "stream",
          "name": "stderr",
          "text": [
            "/usr/local/lib/python3.9/dist-packages/torch/utils/data/dataloader.py:554: UserWarning: This DataLoader will create 5 worker processes in total. Our suggested max number of worker in current system is 2, which is smaller than what this DataLoader is going to create. Please be aware that excessive worker creation might get DataLoader running slow or even freeze, lower the worker number to avoid potential slowness/freeze if necessary.\n",
            "  warnings.warn(_create_warning_msg(\n"
          ]
        }
      ]
    },
    {
      "cell_type": "markdown",
      "metadata": {
        "id": "kx9Sz_-0yaM6"
      },
      "source": [
        "# Excersice 2\n",
        "\n",
        "Modify your best performing architecture from last week notebook and create a class model that can work for any input and output size (using the `__init__()` class constructor parameters)"
      ]
    },
    {
      "cell_type": "markdown",
      "metadata": {
        "id": "Y1y28N5-yaM6"
      },
      "source": [
        "### Fully connected model"
      ]
    },
    {
      "cell_type": "code",
      "execution_count": 7,
      "metadata": {
        "id": "qdzbm1A4yaM6"
      },
      "outputs": [],
      "source": [
        "\n",
        "class FCModel(nn.Module):\n",
        "    def __init__(self, input_size, n_hidden, output_size):\n",
        "        super(FCModel, self).__init__()\n",
        "        self.input_size = input_size\n",
        "        self.network = nn.Sequential(\n",
        "            # Your code here \n",
        "            nn.Linear(input_size, n_hidden), \n",
        "            nn.ReLU(), \n",
        "            nn.Linear(n_hidden, n_hidden), \n",
        "            nn.ReLU(), \n",
        "            nn.Linear(n_hidden, output_size),\n",
        "        )\n",
        "\n",
        "    def forward(self, x):\n",
        "        x = x.view(-1, self.input_size)\n",
        "        return self.network(x)"
      ]
    },
    {
      "cell_type": "markdown",
      "metadata": {
        "id": "wiEWbDVenTRz"
      },
      "source": [
        "## Parameter Initialization\n",
        "\n",
        "In PyTorch the default parameter initialization depends on the layer type. For example, for the Linear layer the default initialization is defined [here](https://github.com/pytorch/pytorch/blob/master/torch/nn/modules/linear.py#L87). Take a look and see if you recognize the initialization method.\n",
        "\n",
        "You can find more initialization methods in the [`torch.nn.init`](https://pytorch.org/docs/stable/nn.init.html?highlight=init) module.\n",
        "\n",
        "If necessary, you can change the default initialization of a layer as follows:"
      ]
    },
    {
      "cell_type": "code",
      "execution_count": 8,
      "metadata": {
        "id": "lO4svFmSyaM7"
      },
      "outputs": [],
      "source": [
        "def initialize_parameters(model):\n",
        "    for name, w in model.named_parameters():\n",
        "        if \"weight\" in name:\n",
        "            nn.init.ones_(w)\n",
        "        \n",
        "        if \"bias\" in name:\n",
        "            nn.init.zeros_(w)   "
      ]
    },
    {
      "cell_type": "markdown",
      "metadata": {
        "id": "Co8qPWTUnTR1"
      },
      "source": [
        "## Create the model and initialize its parameters"
      ]
    },
    {
      "cell_type": "code",
      "execution_count": 9,
      "metadata": {
        "id": "FXwIaK7_yaM7",
        "colab": {
          "base_uri": "https://localhost:8080/"
        },
        "outputId": "78104c1c-770d-4f7c-937e-73870a932b8e"
      },
      "outputs": [
        {
          "output_type": "stream",
          "name": "stdout",
          "text": [
            "Number of parameters 118282:\n"
          ]
        }
      ],
      "source": [
        "learning_rate = 1e-3\n",
        "lambda_l2 = 1e-5\n",
        "torch.manual_seed(0) # seed for reproductibility\n",
        "\n",
        "input_size  = 28*28   # images are 28x28 pixels\n",
        "output_size = 10      # there are 10 classes\n",
        "\n",
        "model = FCModel(input_size, 128, output_size)\n",
        "\n",
        "# utility function to count number of parameters in a model\n",
        "def get_n_params(model):\n",
        "    np=0\n",
        "    for p in list(model.parameters()):\n",
        "        np += p.numel()\n",
        "    return np\n",
        "\n",
        "print(f\"Number of parameters {get_n_params(model)}:\")\n",
        "\n",
        "# move model to gpu if available\n",
        "model.to(device)\n",
        "\n",
        "# nn package also has different loss functions.\n",
        "# we use cross entropy loss for our classification task\n",
        "criterion = torch.nn.CrossEntropyLoss() # https://pytorch.org/docs/stable/generated/torch.nn.CrossEntropyLoss.html#torch.nn.CrossEntropyLoss\n",
        "\n",
        "# we use the optim package to apply\n",
        "# stochastic gradient descent for our parameter updates\n",
        "optimizer = torch.optim.SGD(model.parameters(), lr=learning_rate, momentum=0.9, weight_decay=lambda_l2) # built-in L2\n",
        "\n",
        "# WARNING! What are we doing here?\n",
        "initialize_parameters(model)"
      ]
    },
    {
      "cell_type": "markdown",
      "metadata": {
        "id": "tHoJBWRrnTR2"
      },
      "source": [
        "## Define the train and validation methods"
      ]
    },
    {
      "cell_type": "code",
      "execution_count": 10,
      "metadata": {
        "id": "PtRFRs3cyaM8"
      },
      "outputs": [],
      "source": [
        "@torch.no_grad()  # prevent this function from computing gradients \n",
        "def validate(criterion, model, loader):\n",
        "\n",
        "    val_loss = 0\n",
        "    correct = 0\n",
        "\n",
        "    model.eval()\n",
        "\n",
        "    for data, target in loader:\n",
        "\n",
        "        data, target = data.to(device), target.to(device)\n",
        "\n",
        "        data = data.view(-1, 28*28)\n",
        "        output = model(data)\n",
        "        loss = criterion(output, target)\n",
        "        val_loss += loss.item()                                                              \n",
        "        pred = output.data.max(1, keepdim=True)[1] # get the index of the max log-probability                                                                 \n",
        "        correct += pred.eq(target.view_as(pred)).sum().item()\n",
        "\n",
        "    val_loss /= len(loader.dataset)\n",
        "    accuracy = 100. * correct / len(loader.dataset)\n",
        "    print('\\nTest set: Average loss: {:.4f}, Accuracy: {}/{} ({:.0f}%)\\n'.format(\n",
        "        val_loss, correct, len(loader.dataset),\n",
        "        accuracy))\n",
        "\n",
        "\n",
        "    return val_loss\n",
        "\n",
        "\n",
        "def train(epoch, criterion, model, optimizer, loader):\n",
        "    \n",
        "    total_loss = 0.0\n",
        "\n",
        "    model.train()\n",
        "\n",
        "    for batch_idx, (data, target) in enumerate(loader):\n",
        "        \n",
        "        optimizer.zero_grad()\n",
        "\n",
        "        data, target = data.to(device), target.to(device)\n",
        "\n",
        "        data = data.view(-1, 28*28)\n",
        "\n",
        "        output = model(data)\n",
        "        loss = criterion(output, target)\n",
        "        loss.backward()\n",
        "        optimizer.step()\n",
        "        \n",
        "        # print loss every N iterations\n",
        "        if batch_idx % 100 == 0:\n",
        "            print('Train Epoch: {} [{}/{} ({:.0f}%)]\\tLoss: {:.6f}'.format(\n",
        "                epoch, batch_idx * len(data), len(loader.dataset),\n",
        "                100. * batch_idx / len(loader), loss.item()))\n",
        "\n",
        "\n",
        "        total_loss += loss.item()  #.item() is very important here? Why?\n",
        "\n",
        "    return total_loss / len(loader.dataset)"
      ]
    },
    {
      "cell_type": "markdown",
      "metadata": {
        "id": "2_x-I5cDyaM9"
      },
      "source": [
        "### The training loop"
      ]
    },
    {
      "cell_type": "code",
      "execution_count": 11,
      "metadata": {
        "id": "RyNR6QMeyaM9",
        "colab": {
          "base_uri": "https://localhost:8080/",
          "height": 265
        },
        "outputId": "6ca41822-75fe-47af-d58f-13f379cd8388"
      },
      "outputs": [
        {
          "output_type": "display_data",
          "data": {
            "text/plain": [
              "<Figure size 432x288 with 1 Axes>"
            ],
            "image/png": "[encoded data removed]"
          },
          "metadata": {
            "needs_background": "light"
          }
        }
      ],
      "source": [
        "losses = {\"train\": [], \"val\": []}\n",
        "for epoch in range(10):\n",
        "\n",
        "    train_loss = train(epoch, criterion, model, optimizer, train_loader)\n",
        "    val_loss = validate(criterion, model, val_loader)\n",
        "    losses[\"train\"].append(train_loss)\n",
        "    losses[\"val\"].append(val_loss)\n",
        "    \n",
        "    display.clear_output(wait=True)\n",
        "\n",
        "    plt.plot(losses[\"train\"], label=\"training loss\")\n",
        "    plt.plot(losses[\"val\"], label=\"validation loss\")\n",
        "\n",
        "    plt.legend()\n",
        "    plt.pause(0.000001)\n",
        "    plt.show()   "
      ]
    },
    {
      "cell_type": "markdown",
      "metadata": {
        "id": "o49LlxcRyaM9"
      },
      "source": [
        "# Homework\n",
        "\n",
        "A) Change the initialization of the model parameters (this will help a great deal) and train your model on the Fashion-MNIST dataset.\n",
        "\n"
      ]
    },
    {
      "cell_type": "code",
      "execution_count": 12,
      "metadata": {
        "id": "RC9ch8JMnTR5"
      },
      "outputs": [],
      "source": [
        "# Your code here\n",
        "\n",
        "def initialize_parameters(model):\n",
        "    for name, w in model.named_parameters():\n",
        "        if \"weight\" in name:\n",
        "            nn.init.kaiming_uniform_(w, nonlinearity='relu')\n",
        "        \n",
        "        if \"bias\" in name:\n",
        "            nn.init.zeros_(w)\n",
        "            \n",
        "\n",
        "learning_rate = 1e-3\n",
        "lambda_l2 = 1e-5\n",
        "torch.manual_seed(0)\n",
        "\n",
        "input_size  = 28*28\n",
        "output_size = 10\n",
        "\n",
        "model = FCModel(input_size, 128, output_size)\n",
        "model.to(device)\n",
        "\n",
        "criterion = torch.nn.CrossEntropyLoss() # https://pytorch.org/docs/stable/generated/torch.nn.CrossEntropyLoss.html#torch.nn.CrossEntropyLoss\n",
        "optimizer = torch.optim.SGD(model.parameters(), lr=learning_rate, momentum=0.9, weight_decay=lambda_l2) # built-in L2\n",
        "initialize_parameters(model)"
      ]
    },
    {
      "cell_type": "code",
      "source": [
        "losses = {\"train\": [], \"val\": []}\n",
        "for epoch in range(10):\n",
        "\n",
        "    train_loss = train(epoch, criterion, model, optimizer, train_loader)\n",
        "    val_loss = validate(criterion, model, val_loader)\n",
        "    losses[\"train\"].append(train_loss)\n",
        "    losses[\"val\"].append(val_loss)\n",
        "    \n",
        "    display.clear_output(wait=True)\n",
        "\n",
        "    plt.plot(losses[\"train\"], label=\"training loss\")\n",
        "    plt.plot(losses[\"val\"], label=\"validation loss\")\n",
        "\n",
        "    plt.legend()\n",
        "    plt.pause(0.000001)\n",
        "    plt.show()   "
      ],
      "metadata": {
        "id": "IhQ6EgRWpuog",
        "colab": {
          "base_uri": "https://localhost:8080/",
          "height": 265
        },
        "outputId": "53db003e-0468-4591-a653-f6c948e92dc5"
      },
      "execution_count": 13,
      "outputs": [
        {
          "output_type": "display_data",
          "data": {
            "text/plain": [
              "<Figure size 432x288 with 1 Axes>"
            ],
            "image/png": "[encoded data removed]"
          },
          "metadata": {
            "needs_background": "light"
          }
        }
      ]
    },
    {
      "cell_type": "code",
      "source": [
        "_ = validate(criterion, model, val_loader)"
      ],
      "metadata": {
        "id": "SrwqtQlRp4Eb",
        "colab": {
          "base_uri": "https://localhost:8080/"
        },
        "outputId": "b57481c7-f566-4a98-845d-e8090efff0ac"
      },
      "execution_count": 14,
      "outputs": [
        {
          "output_type": "stream",
          "name": "stdout",
          "text": [
            "\n",
            "Test set: Average loss: 0.0131, Accuracy: 8505/10000 (85%)\n",
            "\n"
          ]
        }
      ]
    },
    {
      "cell_type": "markdown",
      "metadata": {
        "id": "roiQ3Xz-nTR6"
      },
      "source": [
        "B) Try to improve the Accuracy of your model on the validation set by adding more layers and/or more hidden units in you model. For example you can use a MLP with 2 hidden layers with 512 and 256 units respectively."
      ]
    },
    {
      "cell_type": "code",
      "execution_count": 15,
      "metadata": {
        "id": "VT3jHa4CnTR6"
      },
      "outputs": [],
      "source": [
        "# Your code here\n",
        "\n",
        "class FCModel2(nn.Module):\n",
        "    def __init__(self, input_size, n_hidden, output_size):\n",
        "        super(FCModel2, self).__init__()\n",
        "        self.input_size = input_size\n",
        "        self.network = nn.Sequential(\n",
        "            # Your code here\n",
        "            nn.Linear(input_size, n_hidden[0]), \n",
        "            nn.ReLU(), \n",
        "            nn.Linear(n_hidden[0], n_hidden[1]), \n",
        "            nn.ReLU(), \n",
        "            nn.Linear(n_hidden[1], n_hidden[2]), \n",
        "            nn.ReLU(), \n",
        "            nn.Linear(n_hidden[2], output_size),\n",
        "        )\n",
        "\n",
        "    def forward(self, x):\n",
        "        x = x.view(-1, self.input_size)\n",
        "        return self.network(x)\n",
        "\n",
        "    \n",
        "train_loader = torch.utils.data.DataLoader(train_set, batch_size=200, shuffle=True, num_workers=5)\n",
        "val_loader = torch.utils.data.DataLoader(val_set, batch_size=200, shuffle=True, num_workers=5)\n",
        "\n",
        "learning_rate = 0.1\n",
        "lambda_l2 = 1e-5\n",
        "torch.manual_seed(0)\n",
        "\n",
        "input_size  = 28*28\n",
        "output_size = 10\n",
        "\n",
        "model = FCModel2(input_size, (256,128,64), output_size)\n",
        "model.to(device)\n",
        "\n",
        "criterion = torch.nn.CrossEntropyLoss() # https://pytorch.org/docs/stable/generated/torch.nn.CrossEntropyLoss.html#torch.nn.CrossEntropyLoss\n",
        "optimizer = torch.optim.SGD(model.parameters(), lr=learning_rate, momentum=0.8, weight_decay=lambda_l2) # built-in L2\n",
        "initialize_parameters(model)"
      ]
    },
    {
      "cell_type": "code",
      "source": [
        "losses = {\"train\": [], \"val\": []}\n",
        "for epoch in range(25):\n",
        "\n",
        "    train_loss = train(epoch, criterion, model, optimizer, train_loader)\n",
        "    val_loss = validate(criterion, model, val_loader)\n",
        "    \n",
        "     \n",
        "    losses[\"train\"].append(train_loss)\n",
        "    losses[\"val\"].append(val_loss)\n",
        "    \n",
        "    display.clear_output(wait=True)\n",
        "\n",
        "    plt.plot(losses[\"train\"], label=\"training loss\")\n",
        "    plt.plot(losses[\"val\"], label=\"validation loss\")\n",
        "\n",
        "    plt.legend()\n",
        "    plt.pause(0.000001)\n",
        "    plt.show()  "
      ],
      "metadata": {
        "id": "Tu-_eTpAqMBW",
        "colab": {
          "base_uri": "https://localhost:8080/",
          "height": 265
        },
        "outputId": "2b17c219-1b85-4e64-d8ff-2d64fa20048a"
      },
      "execution_count": 16,
      "outputs": [
        {
          "output_type": "display_data",
          "data": {
            "text/plain": [
              "<Figure size 432x288 with 1 Axes>"
            ],
            "image/png": "[encoded data removed]"
          },
          "metadata": {
            "needs_background": "light"
          }
        }
      ]
    },
    {
      "cell_type": "code",
      "source": [
        "_ = validate(criterion, model, val_loader)"
      ],
      "metadata": {
        "id": "vTK-kif9qQmz",
        "colab": {
          "base_uri": "https://localhost:8080/"
        },
        "outputId": "22787ba2-0373-4a11-8adb-54ee08af69a0"
      },
      "execution_count": 17,
      "outputs": [
        {
          "output_type": "stream",
          "name": "stdout",
          "text": [
            "\n",
            "Test set: Average loss: 0.0018, Accuracy: 8879/10000 (89%)\n",
            "\n"
          ]
        }
      ]
    },
    {
      "cell_type": "markdown",
      "metadata": {
        "id": "tLvcyKrKnTR7"
      },
      "source": [
        "C) Try at least two different [optimizers](https://pytorch.org/docs/stable/optim.html#algorithms) (e.g. SGD with momentum, RMSProp, Adam, etc.) and plot **in a single matplotlib figure** the loss curves for training the model with them. We want them in a single figure to be able to easily compare the three learning curves."
      ]
    },
    {
      "cell_type": "code",
      "execution_count": 18,
      "metadata": {
        "id": "sKgOINprnTR7",
        "colab": {
          "base_uri": "https://localhost:8080/"
        },
        "outputId": "f711150d-50ea-4f9b-edc2-16e300856ade"
      },
      "outputs": [
        {
          "output_type": "stream",
          "name": "stdout",
          "text": [
            "Train Epoch: 0 [0/60000 (0%)]\tLoss: 2.305011\n",
            "Train Epoch: 0 [20000/60000 (33%)]\tLoss: 0.609383\n",
            "Train Epoch: 0 [40000/60000 (67%)]\tLoss: 0.415080\n",
            "\n",
            "Test set: Average loss: 0.0027, Accuracy: 8024/10000 (80%)\n",
            "\n",
            "Train Epoch: 1 [0/60000 (0%)]\tLoss: 0.520733\n",
            "Train Epoch: 1 [20000/60000 (33%)]\tLoss: 0.446196\n",
            "Train Epoch: 1 [40000/60000 (67%)]\tLoss: 0.420895\n",
            "\n",
            "Test set: Average loss: 0.0031, Accuracy: 7902/10000 (79%)\n",
            "\n",
            "Train Epoch: 2 [0/60000 (0%)]\tLoss: 0.444187\n",
            "Train Epoch: 2 [20000/60000 (33%)]\tLoss: 0.404689\n",
            "Train Epoch: 2 [40000/60000 (67%)]\tLoss: 0.369292\n",
            "\n",
            "Test set: Average loss: 0.0022, Accuracy: 8433/10000 (84%)\n",
            "\n",
            "Train Epoch: 3 [0/60000 (0%)]\tLoss: 0.340503\n",
            "Train Epoch: 3 [20000/60000 (33%)]\tLoss: 0.314633\n",
            "Train Epoch: 3 [40000/60000 (67%)]\tLoss: 0.369405\n",
            "\n",
            "Test set: Average loss: 0.0021, Accuracy: 8489/10000 (85%)\n",
            "\n",
            "Train Epoch: 4 [0/60000 (0%)]\tLoss: 0.385119\n",
            "Train Epoch: 4 [20000/60000 (33%)]\tLoss: 0.541603\n",
            "Train Epoch: 4 [40000/60000 (67%)]\tLoss: 0.434484\n",
            "\n",
            "Test set: Average loss: 0.0040, Accuracy: 7670/10000 (77%)\n",
            "\n",
            "Train Epoch: 5 [0/60000 (0%)]\tLoss: 1.131283\n",
            "Train Epoch: 5 [20000/60000 (33%)]\tLoss: 0.415668\n",
            "Train Epoch: 5 [40000/60000 (67%)]\tLoss: 0.345880\n",
            "\n",
            "Test set: Average loss: 0.0021, Accuracy: 8555/10000 (86%)\n",
            "\n",
            "Train Epoch: 6 [0/60000 (0%)]\tLoss: 0.416219\n",
            "Train Epoch: 6 [20000/60000 (33%)]\tLoss: 0.390758\n",
            "Train Epoch: 6 [40000/60000 (67%)]\tLoss: 0.372056\n",
            "\n",
            "Test set: Average loss: 0.0019, Accuracy: 8676/10000 (87%)\n",
            "\n",
            "Train Epoch: 7 [0/60000 (0%)]\tLoss: 0.297763\n",
            "Train Epoch: 7 [20000/60000 (33%)]\tLoss: 0.286836\n",
            "Train Epoch: 7 [40000/60000 (67%)]\tLoss: 0.307190\n",
            "\n",
            "Test set: Average loss: 0.0020, Accuracy: 8636/10000 (86%)\n",
            "\n",
            "Train Epoch: 8 [0/60000 (0%)]\tLoss: 0.336718\n",
            "Train Epoch: 8 [20000/60000 (33%)]\tLoss: 0.376461\n",
            "Train Epoch: 8 [40000/60000 (67%)]\tLoss: 0.332482\n",
            "\n",
            "Test set: Average loss: 0.0020, Accuracy: 8621/10000 (86%)\n",
            "\n",
            "Train Epoch: 9 [0/60000 (0%)]\tLoss: 0.256752\n",
            "Train Epoch: 9 [20000/60000 (33%)]\tLoss: 0.351797\n",
            "Train Epoch: 9 [40000/60000 (67%)]\tLoss: 0.362982\n",
            "\n",
            "Test set: Average loss: 0.0019, Accuracy: 8693/10000 (87%)\n",
            "\n",
            "Train Epoch: 10 [0/60000 (0%)]\tLoss: 0.273930\n",
            "Train Epoch: 10 [20000/60000 (33%)]\tLoss: 0.369972\n",
            "Train Epoch: 10 [40000/60000 (67%)]\tLoss: 0.301711\n",
            "\n",
            "Test set: Average loss: 0.0020, Accuracy: 8603/10000 (86%)\n",
            "\n",
            "Train Epoch: 11 [0/60000 (0%)]\tLoss: 0.276674\n",
            "Train Epoch: 11 [20000/60000 (33%)]\tLoss: 0.316511\n",
            "Train Epoch: 11 [40000/60000 (67%)]\tLoss: 0.341228\n",
            "\n",
            "Test set: Average loss: 0.0021, Accuracy: 8542/10000 (85%)\n",
            "\n",
            "Train Epoch: 12 [0/60000 (0%)]\tLoss: 0.286989\n",
            "Train Epoch: 12 [20000/60000 (33%)]\tLoss: 0.317159\n",
            "Train Epoch: 12 [40000/60000 (67%)]\tLoss: 0.213072\n",
            "\n",
            "Test set: Average loss: 0.0019, Accuracy: 8716/10000 (87%)\n",
            "\n",
            "Train Epoch: 13 [0/60000 (0%)]\tLoss: 0.334639\n",
            "Train Epoch: 13 [20000/60000 (33%)]\tLoss: 0.238678\n",
            "Train Epoch: 13 [40000/60000 (67%)]\tLoss: 0.264762\n",
            "\n",
            "Test set: Average loss: 0.0019, Accuracy: 8716/10000 (87%)\n",
            "\n",
            "Train Epoch: 14 [0/60000 (0%)]\tLoss: 0.246886\n",
            "Train Epoch: 14 [20000/60000 (33%)]\tLoss: 0.396318\n",
            "Train Epoch: 14 [40000/60000 (67%)]\tLoss: 0.310676\n",
            "\n",
            "Test set: Average loss: 0.0020, Accuracy: 8668/10000 (87%)\n",
            "\n",
            "Train Epoch: 15 [0/60000 (0%)]\tLoss: 0.298979\n",
            "Train Epoch: 15 [20000/60000 (33%)]\tLoss: 0.348046\n",
            "Train Epoch: 15 [40000/60000 (67%)]\tLoss: 0.285328\n",
            "\n",
            "Test set: Average loss: 0.0020, Accuracy: 8698/10000 (87%)\n",
            "\n",
            "Train Epoch: 16 [0/60000 (0%)]\tLoss: 0.346738\n",
            "Train Epoch: 16 [20000/60000 (33%)]\tLoss: 0.314969\n",
            "Train Epoch: 16 [40000/60000 (67%)]\tLoss: 0.301748\n",
            "\n",
            "Test set: Average loss: 0.0020, Accuracy: 8629/10000 (86%)\n",
            "\n",
            "Train Epoch: 17 [0/60000 (0%)]\tLoss: 0.316078\n",
            "Train Epoch: 17 [20000/60000 (33%)]\tLoss: 0.267382\n",
            "Train Epoch: 17 [40000/60000 (67%)]\tLoss: 0.294803\n",
            "\n",
            "Test set: Average loss: 0.0023, Accuracy: 8608/10000 (86%)\n",
            "\n",
            "Train Epoch: 18 [0/60000 (0%)]\tLoss: 0.324324\n",
            "Train Epoch: 18 [20000/60000 (33%)]\tLoss: 0.360112\n",
            "Train Epoch: 18 [40000/60000 (67%)]\tLoss: 0.283897\n",
            "\n",
            "Test set: Average loss: 0.0021, Accuracy: 8781/10000 (88%)\n",
            "\n",
            "Train Epoch: 19 [0/60000 (0%)]\tLoss: 0.190033\n",
            "Train Epoch: 19 [20000/60000 (33%)]\tLoss: 0.824909\n",
            "Train Epoch: 19 [40000/60000 (67%)]\tLoss: 0.331762\n",
            "\n",
            "Test set: Average loss: 0.0021, Accuracy: 8683/10000 (87%)\n",
            "\n",
            "Train Epoch: 20 [0/60000 (0%)]\tLoss: 0.330449\n",
            "Train Epoch: 20 [20000/60000 (33%)]\tLoss: 0.319441\n",
            "Train Epoch: 20 [40000/60000 (67%)]\tLoss: 0.393874\n",
            "\n",
            "Test set: Average loss: 0.0020, Accuracy: 8720/10000 (87%)\n",
            "\n",
            "Train Epoch: 21 [0/60000 (0%)]\tLoss: 0.289143\n",
            "Train Epoch: 21 [20000/60000 (33%)]\tLoss: 0.243112\n",
            "Train Epoch: 21 [40000/60000 (67%)]\tLoss: 0.249704\n",
            "\n",
            "Test set: Average loss: 0.0021, Accuracy: 8648/10000 (86%)\n",
            "\n",
            "Train Epoch: 22 [0/60000 (0%)]\tLoss: 0.297044\n",
            "Train Epoch: 22 [20000/60000 (33%)]\tLoss: 0.267268\n",
            "Train Epoch: 22 [40000/60000 (67%)]\tLoss: 0.298891\n",
            "\n",
            "Test set: Average loss: 0.0022, Accuracy: 8651/10000 (87%)\n",
            "\n",
            "Train Epoch: 23 [0/60000 (0%)]\tLoss: 0.273774\n",
            "Train Epoch: 23 [20000/60000 (33%)]\tLoss: 0.298150\n",
            "Train Epoch: 23 [40000/60000 (67%)]\tLoss: 0.217353\n",
            "\n",
            "Test set: Average loss: 0.0021, Accuracy: 8696/10000 (87%)\n",
            "\n",
            "Train Epoch: 24 [0/60000 (0%)]\tLoss: 0.245057\n",
            "Train Epoch: 24 [20000/60000 (33%)]\tLoss: 0.358435\n",
            "Train Epoch: 24 [40000/60000 (67%)]\tLoss: 0.256348\n",
            "\n",
            "Test set: Average loss: 0.0022, Accuracy: 8679/10000 (87%)\n",
            "\n",
            "Train Epoch: 0 [0/60000 (0%)]\tLoss: 2.305011\n",
            "Train Epoch: 0 [20000/60000 (33%)]\tLoss: 0.537272\n",
            "Train Epoch: 0 [40000/60000 (67%)]\tLoss: 0.381750\n",
            "\n",
            "Test set: Average loss: 0.0024, Accuracy: 8268/10000 (83%)\n",
            "\n",
            "Train Epoch: 1 [0/60000 (0%)]\tLoss: 0.430080\n",
            "Train Epoch: 1 [20000/60000 (33%)]\tLoss: 0.399952\n",
            "Train Epoch: 1 [40000/60000 (67%)]\tLoss: 0.406336\n",
            "\n",
            "Test set: Average loss: 0.0021, Accuracy: 8483/10000 (85%)\n",
            "\n",
            "Train Epoch: 2 [0/60000 (0%)]\tLoss: 0.335365\n",
            "Train Epoch: 2 [20000/60000 (33%)]\tLoss: 0.426992\n",
            "Train Epoch: 2 [40000/60000 (67%)]\tLoss: 0.291493\n",
            "\n",
            "Test set: Average loss: 0.0019, Accuracy: 8598/10000 (86%)\n",
            "\n",
            "Train Epoch: 3 [0/60000 (0%)]\tLoss: 0.261124\n",
            "Train Epoch: 3 [20000/60000 (33%)]\tLoss: 0.298052\n",
            "Train Epoch: 3 [40000/60000 (67%)]\tLoss: 0.329255\n",
            "\n",
            "Test set: Average loss: 0.0019, Accuracy: 8593/10000 (86%)\n",
            "\n",
            "Train Epoch: 4 [0/60000 (0%)]\tLoss: 0.313165\n",
            "Train Epoch: 4 [20000/60000 (33%)]\tLoss: 0.359605\n",
            "Train Epoch: 4 [40000/60000 (67%)]\tLoss: 0.329655\n",
            "\n",
            "Test set: Average loss: 0.0018, Accuracy: 8721/10000 (87%)\n",
            "\n",
            "Train Epoch: 5 [0/60000 (0%)]\tLoss: 0.360067\n",
            "Train Epoch: 5 [20000/60000 (33%)]\tLoss: 0.318337\n",
            "Train Epoch: 5 [40000/60000 (67%)]\tLoss: 0.288905\n",
            "\n",
            "Test set: Average loss: 0.0017, Accuracy: 8780/10000 (88%)\n",
            "\n",
            "Train Epoch: 6 [0/60000 (0%)]\tLoss: 0.320817\n",
            "Train Epoch: 6 [20000/60000 (33%)]\tLoss: 0.247085\n",
            "Train Epoch: 6 [40000/60000 (67%)]\tLoss: 0.280097\n",
            "\n",
            "Test set: Average loss: 0.0017, Accuracy: 8740/10000 (87%)\n",
            "\n",
            "Train Epoch: 7 [0/60000 (0%)]\tLoss: 0.235133\n",
            "Train Epoch: 7 [20000/60000 (33%)]\tLoss: 0.246646\n",
            "Train Epoch: 7 [40000/60000 (67%)]\tLoss: 0.206869\n",
            "\n",
            "Test set: Average loss: 0.0017, Accuracy: 8759/10000 (88%)\n",
            "\n",
            "Train Epoch: 8 [0/60000 (0%)]\tLoss: 0.274795\n",
            "Train Epoch: 8 [20000/60000 (33%)]\tLoss: 0.298001\n",
            "Train Epoch: 8 [40000/60000 (67%)]\tLoss: 0.258216\n",
            "\n",
            "Test set: Average loss: 0.0017, Accuracy: 8825/10000 (88%)\n",
            "\n",
            "Train Epoch: 9 [0/60000 (0%)]\tLoss: 0.215879\n",
            "Train Epoch: 9 [20000/60000 (33%)]\tLoss: 0.220986\n",
            "Train Epoch: 9 [40000/60000 (67%)]\tLoss: 0.205968\n",
            "\n",
            "Test set: Average loss: 0.0017, Accuracy: 8803/10000 (88%)\n",
            "\n",
            "Train Epoch: 10 [0/60000 (0%)]\tLoss: 0.236392\n",
            "Train Epoch: 10 [20000/60000 (33%)]\tLoss: 0.242226\n",
            "Train Epoch: 10 [40000/60000 (67%)]\tLoss: 0.273084\n",
            "\n",
            "Test set: Average loss: 0.0017, Accuracy: 8825/10000 (88%)\n",
            "\n",
            "Train Epoch: 11 [0/60000 (0%)]\tLoss: 0.234940\n",
            "Train Epoch: 11 [20000/60000 (33%)]\tLoss: 0.216675\n",
            "Train Epoch: 11 [40000/60000 (67%)]\tLoss: 0.207786\n",
            "\n",
            "Test set: Average loss: 0.0016, Accuracy: 8849/10000 (88%)\n",
            "\n",
            "Train Epoch: 12 [0/60000 (0%)]\tLoss: 0.196573\n",
            "Train Epoch: 12 [20000/60000 (33%)]\tLoss: 0.187707\n",
            "Train Epoch: 12 [40000/60000 (67%)]\tLoss: 0.126497\n",
            "\n",
            "Test set: Average loss: 0.0016, Accuracy: 8829/10000 (88%)\n",
            "\n",
            "Train Epoch: 13 [0/60000 (0%)]\tLoss: 0.234869\n",
            "Train Epoch: 13 [20000/60000 (33%)]\tLoss: 0.141325\n",
            "Train Epoch: 13 [40000/60000 (67%)]\tLoss: 0.188843\n",
            "\n",
            "Test set: Average loss: 0.0018, Accuracy: 8786/10000 (88%)\n",
            "\n",
            "Train Epoch: 14 [0/60000 (0%)]\tLoss: 0.234128\n",
            "Train Epoch: 14 [20000/60000 (33%)]\tLoss: 0.330449\n",
            "Train Epoch: 14 [40000/60000 (67%)]\tLoss: 0.264004\n",
            "\n",
            "Test set: Average loss: 0.0016, Accuracy: 8870/10000 (89%)\n",
            "\n",
            "Train Epoch: 15 [0/60000 (0%)]\tLoss: 0.207042\n",
            "Train Epoch: 15 [20000/60000 (33%)]\tLoss: 0.240772\n",
            "Train Epoch: 15 [40000/60000 (67%)]\tLoss: 0.147160\n",
            "\n",
            "Test set: Average loss: 0.0018, Accuracy: 8792/10000 (88%)\n",
            "\n",
            "Train Epoch: 16 [0/60000 (0%)]\tLoss: 0.214179\n",
            "Train Epoch: 16 [20000/60000 (33%)]\tLoss: 0.220530\n",
            "Train Epoch: 16 [40000/60000 (67%)]\tLoss: 0.257500\n",
            "\n",
            "Test set: Average loss: 0.0018, Accuracy: 8846/10000 (88%)\n",
            "\n",
            "Train Epoch: 17 [0/60000 (0%)]\tLoss: 0.244617\n",
            "Train Epoch: 17 [20000/60000 (33%)]\tLoss: 0.132868\n",
            "Train Epoch: 17 [40000/60000 (67%)]\tLoss: 0.212996\n",
            "\n",
            "Test set: Average loss: 0.0017, Accuracy: 8889/10000 (89%)\n",
            "\n",
            "Train Epoch: 18 [0/60000 (0%)]\tLoss: 0.189647\n",
            "Train Epoch: 18 [20000/60000 (33%)]\tLoss: 0.213343\n",
            "Train Epoch: 18 [40000/60000 (67%)]\tLoss: 0.183201\n",
            "\n",
            "Test set: Average loss: 0.0018, Accuracy: 8851/10000 (89%)\n",
            "\n",
            "Train Epoch: 19 [0/60000 (0%)]\tLoss: 0.139499\n",
            "Train Epoch: 19 [20000/60000 (33%)]\tLoss: 0.195856\n",
            "Train Epoch: 19 [40000/60000 (67%)]\tLoss: 0.198413\n",
            "\n",
            "Test set: Average loss: 0.0017, Accuracy: 8876/10000 (89%)\n",
            "\n",
            "Train Epoch: 20 [0/60000 (0%)]\tLoss: 0.203215\n",
            "Train Epoch: 20 [20000/60000 (33%)]\tLoss: 0.155401\n",
            "Train Epoch: 20 [40000/60000 (67%)]\tLoss: 0.239332\n",
            "\n",
            "Test set: Average loss: 0.0017, Accuracy: 8877/10000 (89%)\n",
            "\n",
            "Train Epoch: 21 [0/60000 (0%)]\tLoss: 0.141858\n",
            "Train Epoch: 21 [20000/60000 (33%)]\tLoss: 0.122832\n",
            "Train Epoch: 21 [40000/60000 (67%)]\tLoss: 0.168246\n",
            "\n",
            "Test set: Average loss: 0.0017, Accuracy: 8900/10000 (89%)\n",
            "\n",
            "Train Epoch: 22 [0/60000 (0%)]\tLoss: 0.155331\n",
            "Train Epoch: 22 [20000/60000 (33%)]\tLoss: 0.110681\n",
            "Train Epoch: 22 [40000/60000 (67%)]\tLoss: 0.159756\n",
            "\n",
            "Test set: Average loss: 0.0017, Accuracy: 8958/10000 (90%)\n",
            "\n",
            "Train Epoch: 23 [0/60000 (0%)]\tLoss: 0.101826\n",
            "Train Epoch: 23 [20000/60000 (33%)]\tLoss: 0.137224\n",
            "Train Epoch: 23 [40000/60000 (67%)]\tLoss: 0.156342\n",
            "\n",
            "Test set: Average loss: 0.0018, Accuracy: 8915/10000 (89%)\n",
            "\n",
            "Train Epoch: 24 [0/60000 (0%)]\tLoss: 0.174714\n",
            "Train Epoch: 24 [20000/60000 (33%)]\tLoss: 0.228611\n",
            "Train Epoch: 24 [40000/60000 (67%)]\tLoss: 0.166033\n",
            "\n",
            "Test set: Average loss: 0.0019, Accuracy: 8815/10000 (88%)\n",
            "\n"
          ]
        }
      ],
      "source": [
        "# Your code here\n",
        "\n",
        "all_losses = [losses.copy()]\n",
        "\n",
        "torch.manual_seed(0)\n",
        "model = FCModel2(input_size, (256,128,64), output_size)\n",
        "model.to(device)\n",
        "\n",
        "optimizer = optim.RMSprop(model.parameters())\n",
        "\n",
        "losses = {\"train\": [], \"val\": []}\n",
        "for epoch in range(25):\n",
        "    train_loss = train(epoch, criterion, model, optimizer, train_loader)\n",
        "    val_loss = validate(criterion, model, val_loader)\n",
        "    losses[\"train\"].append(train_loss)\n",
        "    losses[\"val\"].append(val_loss)\n",
        "        \n",
        "all_losses.append(losses.copy())\n",
        "\n",
        "torch.manual_seed(0)\n",
        "model = FCModel2(input_size, (256,128,64), output_size)\n",
        "model.to(device)\n",
        "\n",
        "optimizer = optim.Adam(model.parameters())\n",
        "\n",
        "losses = {\"train\": [], \"val\": []}\n",
        "for epoch in range(25):\n",
        "    train_loss = train(epoch, criterion, model, optimizer, train_loader)\n",
        "    val_loss = validate(criterion, model, val_loader)\n",
        "    losses[\"train\"].append(train_loss)\n",
        "    losses[\"val\"].append(val_loss)\n",
        "        \n",
        "all_losses.append(losses.copy())"
      ]
    },
    {
      "cell_type": "code",
      "source": [
        "f, (ax1, ax2) = plt.subplots(1, 2, sharey=True)\n",
        "\n",
        "ax1.set_title('Training loss')\n",
        "\n",
        "ax1.plot(all_losses[0][\"train\"][1:], label=\"SGD with momentum\") \n",
        "ax1.plot(all_losses[1][\"train\"][1:], label=\"RMSProp\")\n",
        "ax1.plot(all_losses[2][\"train\"][1:], label=\"Adam\")\n",
        "\n",
        "ax2.set_title('Validation loss')\n",
        "ax2.plot(all_losses[0][\"val\"], label=\"SGD with momentum\")\n",
        "ax2.plot(all_losses[1][\"val\"], label=\"RMSProp\")\n",
        "ax2.plot(all_losses[2][\"val\"], label=\"Adam\")\n",
        "\n",
        "plt.legend()\n",
        "plt.show()  "
      ],
      "metadata": {
        "id": "ryAAIkAaqe49",
        "colab": {
          "base_uri": "https://localhost:8080/",
          "height": 281
        },
        "outputId": "44e0e30f-dd1b-4460-fb4b-cf5c7ac0cef9"
      },
      "execution_count": 19,
      "outputs": [
        {
          "output_type": "display_data",
          "data": {
            "text/plain": [
              "<Figure size 432x288 with 2 Axes>"
            ],
            "image/png": "[encoded data removed]"
          },
          "metadata": {
            "needs_background": "light"
          }
        }
      ]
    },
    {
      "cell_type": "markdown",
      "metadata": {
        "id": "Tzzdy45DnTR7"
      },
      "source": [
        "D) Calculate the Accuracy for each individual class in the dataset and plot the [confusion matrix](https://scikit-learn.org/stable/modules/generated/sklearn.metrics.plot_confusion_matrix.html#sklearn.metrics.plot_confusion_matrix) of your trained models."
      ]
    },
    {
      "cell_type": "code",
      "execution_count": 20,
      "metadata": {
        "id": "qHOETD_InTR8",
        "colab": {
          "base_uri": "https://localhost:8080/",
          "height": 395
        },
        "outputId": "888a3acb-1cb0-4e33-ac25-46bc695e7a10"
      },
      "outputs": [
        {
          "output_type": "stream",
          "name": "stderr",
          "text": [
            "/usr/local/lib/python3.9/dist-packages/torch/utils/data/dataloader.py:554: UserWarning: This DataLoader will create 5 worker processes in total. Our suggested max number of worker in current system is 2, which is smaller than what this DataLoader is going to create. Please be aware that excessive worker creation might get DataLoader running slow or even freeze, lower the worker number to avoid potential slowness/freeze if necessary.\n",
            "  warnings.warn(_create_warning_msg(\n"
          ]
        },
        {
          "output_type": "execute_result",
          "data": {
            "text/plain": [
              "<sklearn.metrics._plot.confusion_matrix.ConfusionMatrixDisplay at 0x7f3b26d880a0>"
            ]
          },
          "metadata": {},
          "execution_count": 20
        },
        {
          "output_type": "display_data",
          "data": {
            "text/plain": [
              "<Figure size 432x288 with 2 Axes>"
            ],
            "image/png": "[encoded data removed]"
          },
          "metadata": {
            "needs_background": "light"
          }
        }
      ],
      "source": [
        "# Your code here\n",
        "\n",
        "from sklearn.metrics import confusion_matrix, ConfusionMatrixDisplay\n",
        "\n",
        "@torch.no_grad()\n",
        "def evaluate(model, loader):\n",
        "\n",
        "    predictions = []\n",
        "    true = []\n",
        "\n",
        "    model.eval()\n",
        "\n",
        "    for data, target in loader:\n",
        "\n",
        "        data, target = data.to(device), target.to(device)\n",
        "\n",
        "        data = data.view(-1, 28*28)\n",
        "        output = model(data)\n",
        "        predictions += np.argmax(output.cpu().numpy(), axis=1).tolist()\n",
        "        true += target.cpu().numpy().tolist()\n",
        "        \n",
        "    return true, predictions\n",
        "\n",
        "true, pred = evaluate(model, val_loader)\n",
        "cm = confusion_matrix(true, pred)\n",
        "\n",
        "disp = ConfusionMatrixDisplay(confusion_matrix=cm, display_labels=val_set.classes)\n",
        "disp.plot(xticks_rotation='vertical') "
      ]
    }
  ],
  "metadata": {
    "accelerator": "GPU",
    "colab": {
      "provenance": [],
      "include_colab_link": true
    },
    "kernelspec": {
      "display_name": "Python 3 (ipykernel)",
      "language": "python",
      "name": "python3"
    },
    "language_info": {
      "codemirror_mode": {
        "name": "ipython",
        "version": 3
      },
      "file_extension": ".py",
      "mimetype": "text/x-python",
      "name": "python",
      "nbconvert_exporter": "python",
      "pygments_lexer": "ipython3",
      "version": "3.8.16"
    },
    "widgets": {
      "application/vnd.jupyter.widget-state+json": {
        "e2431a29b77b4dbea608595f0935cca9": {
          "model_module": "@jupyter-widgets/controls",
          "model_name": "HBoxModel",
          "model_module_version": "1.5.0",
          "state": {
            "_dom_classes": [],
            "_model_module": "@jupyter-widgets/controls",
            "_model_module_version": "1.5.0",
            "_model_name": "HBoxModel",
            "_view_count": null,
            "_view_module": "@jupyter-widgets/controls",
            "_view_module_version": "1.5.0",
            "_view_name": "HBoxView",
            "box_style": "",
            "children": [
              "IPY_MODEL_a205a927a483466c93250e7633c14761",
              "IPY_MODEL_b787701e49d84bf799b6c4d0b4a494d9",
              "IPY_MODEL_226ac5cb83854ae9bdee132c3733eb65"
            ],
            "layout": "IPY_MODEL_eb69ee8025b34a0f8c1c56b3d2d4eb97"
          }
        },
        "a205a927a483466c93250e7633c14761": {
          "model_module": "@jupyter-widgets/controls",
          "model_name": "HTMLModel",
          "model_module_version": "1.5.0",
          "state": {
            "_dom_classes": [],
            "_model_module": "@jupyter-widgets/controls",
            "_model_module_version": "1.5.0",
            "_model_name": "HTMLModel",
            "_view_count": null,
            "_view_module": "@jupyter-widgets/controls",
            "_view_module_version": "1.5.0",
            "_view_name": "HTMLView",
            "description": "",
            "description_tooltip": null,
            "layout": "IPY_MODEL_1f40ed78a098480abe81d641c7033883",
            "placeholder": "​",
            "style": "IPY_MODEL_d5aad0e32d864bb1b747d33d9d4ed428",
            "value": "100%"
          }
        },
        "b787701e49d84bf799b6c4d0b4a494d9": {
          "model_module": "@jupyter-widgets/controls",
          "model_name": "FloatProgressModel",
          "model_module_version": "1.5.0",
          "state": {
            "_dom_classes": [],
            "_model_module": "@jupyter-widgets/controls",
            "_model_module_version": "1.5.0",
            "_model_name": "FloatProgressModel",
            "_view_count": null,
            "_view_module": "@jupyter-widgets/controls",
            "_view_module_version": "1.5.0",
            "_view_name": "ProgressView",
            "bar_style": "success",
            "description": "",
            "description_tooltip": null,
            "layout": "IPY_MODEL_6ca03938fb624560a32deed778834e1b",
            "max": 26421880,
            "min": 0,
            "orientation": "horizontal",
            "style": "IPY_MODEL_3f41d1abe29343438d3f46df0c7a1a30",
            "value": 26421880
          }
        },
        "226ac5cb83854ae9bdee132c3733eb65": {
          "model_module": "@jupyter-widgets/controls",
          "model_name": "HTMLModel",
          "model_module_version": "1.5.0",
          "state": {
            "_dom_classes": [],
            "_model_module": "@jupyter-widgets/controls",
            "_model_module_version": "1.5.0",
            "_model_name": "HTMLModel",
            "_view_count": null,
            "_view_module": "@jupyter-widgets/controls",
            "_view_module_version": "1.5.0",
            "_view_name": "HTMLView",
            "description": "",
            "description_tooltip": null,
            "layout": "IPY_MODEL_48fa82758cd3487ab6ea87ddc330598e",
            "placeholder": "​",
            "style": "IPY_MODEL_e4c30c8fb0f84c37b291cb473e41804a",
            "value": " 26421880/26421880 [00:03&lt;00:00, 14007145.12it/s]"
          }
        },
        "eb69ee8025b34a0f8c1c56b3d2d4eb97": {
          "model_module": "@jupyter-widgets/base",
          "model_name": "LayoutModel",
          "model_module_version": "1.2.0",
          "state": {
            "_model_module": "@jupyter-widgets/base",
            "_model_module_version": "1.2.0",
            "_model_name": "LayoutModel",
            "_view_count": null,
            "_view_module": "@jupyter-widgets/base",
            "_view_module_version": "1.2.0",
            "_view_name": "LayoutView",
            "align_content": null,
            "align_items": null,
            "align_self": null,
            "border": null,
            "bottom": null,
            "display": null,
            "flex": null,
            "flex_flow": null,
            "grid_area": null,
            "grid_auto_columns": null,
            "grid_auto_flow": null,
            "grid_auto_rows": null,
            "grid_column": null,
            "grid_gap": null,
            "grid_row": null,
            "grid_template_areas": null,
            "grid_template_columns": null,
            "grid_template_rows": null,
            "height": null,
            "justify_content": null,
            "justify_items": null,
            "left": null,
            "margin": null,
            "max_height": null,
            "max_width": null,
            "min_height": null,
            "min_width": null,
            "object_fit": null,
            "object_position": null,
            "order": null,
            "overflow": null,
            "overflow_x": null,
            "overflow_y": null,
            "padding": null,
            "right": null,
            "top": null,
            "visibility": null,
            "width": null
          }
        },
        "1f40ed78a098480abe81d641c7033883": {
          "model_module": "@jupyter-widgets/base",
          "model_name": "LayoutModel",
          "model_module_version": "1.2.0",
          "state": {
            "_model_module": "@jupyter-widgets/base",
            "_model_module_version": "1.2.0",
            "_model_name": "LayoutModel",
            "_view_count": null,
            "_view_module": "@jupyter-widgets/base",
            "_view_module_version": "1.2.0",
            "_view_name": "LayoutView",
            "align_content": null,
            "align_items": null,
            "align_self": null,
            "border": null,
            "bottom": null,
            "display": null,
            "flex": null,
            "flex_flow": null,
            "grid_area": null,
            "grid_auto_columns": null,
            "grid_auto_flow": null,
            "grid_auto_rows": null,
            "grid_column": null,
            "grid_gap": null,
            "grid_row": null,
            "grid_template_areas": null,
            "grid_template_columns": null,
            "grid_template_rows": null,
            "height": null,
            "justify_content": null,
            "justify_items": null,
            "left": null,
            "margin": null,
            "max_height": null,
            "max_width": null,
            "min_height": null,
            "min_width": null,
            "object_fit": null,
            "object_position": null,
            "order": null,
            "overflow": null,
            "overflow_x": null,
            "overflow_y": null,
            "padding": null,
            "right": null,
            "top": null,
            "visibility": null,
            "width": null
          }
        },
        "d5aad0e32d864bb1b747d33d9d4ed428": {
          "model_module": "@jupyter-widgets/controls",
          "model_name": "DescriptionStyleModel",
          "model_module_version": "1.5.0",
          "state": {
            "_model_module": "@jupyter-widgets/controls",
            "_model_module_version": "1.5.0",
            "_model_name": "DescriptionStyleModel",
            "_view_count": null,
            "_view_module": "@jupyter-widgets/base",
            "_view_module_version": "1.2.0",
            "_view_name": "StyleView",
            "description_width": ""
          }
        },
        "6ca03938fb624560a32deed778834e1b": {
          "model_module": "@jupyter-widgets/base",
          "model_name": "LayoutModel",
          "model_module_version": "1.2.0",
          "state": {
            "_model_module": "@jupyter-widgets/base",
            "_model_module_version": "1.2.0",
            "_model_name": "LayoutModel",
            "_view_count": null,
            "_view_module": "@jupyter-widgets/base",
            "_view_module_version": "1.2.0",
            "_view_name": "LayoutView",
            "align_content": null,
            "align_items": null,
            "align_self": null,
            "border": null,
            "bottom": null,
            "display": null,
            "flex": null,
            "flex_flow": null,
            "grid_area": null,
            "grid_auto_columns": null,
            "grid_auto_flow": null,
            "grid_auto_rows": null,
            "grid_column": null,
            "grid_gap": null,
            "grid_row": null,
            "grid_template_areas": null,
            "grid_template_columns": null,
            "grid_template_rows": null,
            "height": null,
            "justify_content": null,
            "justify_items": null,
            "left": null,
            "margin": null,
            "max_height": null,
            "max_width": null,
            "min_height": null,
            "min_width": null,
            "object_fit": null,
            "object_position": null,
            "order": null,
            "overflow": null,
            "overflow_x": null,
            "overflow_y": null,
            "padding": null,
            "right": null,
            "top": null,
            "visibility": null,
            "width": null
          }
        },
        "3f41d1abe29343438d3f46df0c7a1a30": {
          "model_module": "@jupyter-widgets/controls",
          "model_name": "ProgressStyleModel",
          "model_module_version": "1.5.0",
          "state": {
            "_model_module": "@jupyter-widgets/controls",
            "_model_module_version": "1.5.0",
            "_model_name": "ProgressStyleModel",
            "_view_count": null,
            "_view_module": "@jupyter-widgets/base",
            "_view_module_version": "1.2.0",
            "_view_name": "StyleView",
            "bar_color": null,
            "description_width": ""
          }
        },
        "48fa82758cd3487ab6ea87ddc330598e": {
          "model_module": "@jupyter-widgets/base",
          "model_name": "LayoutModel",
          "model_module_version": "1.2.0",
          "state": {
            "_model_module": "@jupyter-widgets/base",
            "_model_module_version": "1.2.0",
            "_model_name": "LayoutModel",
            "_view_count": null,
            "_view_module": "@jupyter-widgets/base",
            "_view_module_version": "1.2.0",
            "_view_name": "LayoutView",
            "align_content": null,
            "align_items": null,
            "align_self": null,
            "border": null,
            "bottom": null,
            "display": null,
            "flex": null,
            "flex_flow": null,
            "grid_area": null,
            "grid_auto_columns": null,
            "grid_auto_flow": null,
            "grid_auto_rows": null,
            "grid_column": null,
            "grid_gap": null,
            "grid_row": null,
            "grid_template_areas": null,
            "grid_template_columns": null,
            "grid_template_rows": null,
            "height": null,
            "justify_content": null,
            "justify_items": null,
            "left": null,
            "margin": null,
            "max_height": null,
            "max_width": null,
            "min_height": null,
            "min_width": null,
            "object_fit": null,
            "object_position": null,
            "order": null,
            "overflow": null,
            "overflow_x": null,
            "overflow_y": null,
            "padding": null,
            "right": null,
            "top": null,
            "visibility": null,
            "width": null
          }
        },
        "e4c30c8fb0f84c37b291cb473e41804a": {
          "model_module": "@jupyter-widgets/controls",
          "model_name": "DescriptionStyleModel",
          "model_module_version": "1.5.0",
          "state": {
            "_model_module": "@jupyter-widgets/controls",
            "_model_module_version": "1.5.0",
            "_model_name": "DescriptionStyleModel",
            "_view_count": null,
            "_view_module": "@jupyter-widgets/base",
            "_view_module_version": "1.2.0",
            "_view_name": "StyleView",
            "description_width": ""
          }
        },
        "2861c6cbd11d4c7298bf190eacb26acf": {
          "model_module": "@jupyter-widgets/controls",
          "model_name": "HBoxModel",
          "model_module_version": "1.5.0",
          "state": {
            "_dom_classes": [],
            "_model_module": "@jupyter-widgets/controls",
            "_model_module_version": "1.5.0",
            "_model_name": "HBoxModel",
            "_view_count": null,
            "_view_module": "@jupyter-widgets/controls",
            "_view_module_version": "1.5.0",
            "_view_name": "HBoxView",
            "box_style": "",
            "children": [
              "IPY_MODEL_a2d9ff90e32a4e28a997e0b55b323931",
              "IPY_MODEL_b11e5b230a7b4949a16fe80573720eb2",
              "IPY_MODEL_2efb8fa20a754337bd023469082501d8"
            ],
            "layout": "IPY_MODEL_679128168de94ee3a342f7e5bd4e34a1"
          }
        },
        "a2d9ff90e32a4e28a997e0b55b323931": {
          "model_module": "@jupyter-widgets/controls",
          "model_name": "HTMLModel",
          "model_module_version": "1.5.0",
          "state": {
            "_dom_classes": [],
            "_model_module": "@jupyter-widgets/controls",
            "_model_module_version": "1.5.0",
            "_model_name": "HTMLModel",
            "_view_count": null,
            "_view_module": "@jupyter-widgets/controls",
            "_view_module_version": "1.5.0",
            "_view_name": "HTMLView",
            "description": "",
            "description_tooltip": null,
            "layout": "IPY_MODEL_6076b417ac7e4a118a34436954cd4cfa",
            "placeholder": "​",
            "style": "IPY_MODEL_c852a1b149c24a3ea17184b4515c3a98",
            "value": "100%"
          }
        },
        "b11e5b230a7b4949a16fe80573720eb2": {
          "model_module": "@jupyter-widgets/controls",
          "model_name": "FloatProgressModel",
          "model_module_version": "1.5.0",
          "state": {
            "_dom_classes": [],
            "_model_module": "@jupyter-widgets/controls",
            "_model_module_version": "1.5.0",
            "_model_name": "FloatProgressModel",
            "_view_count": null,
            "_view_module": "@jupyter-widgets/controls",
            "_view_module_version": "1.5.0",
            "_view_name": "ProgressView",
            "bar_style": "success",
            "description": "",
            "description_tooltip": null,
            "layout": "IPY_MODEL_1872819533d249158cf4e03c9128f108",
            "max": 29515,
            "min": 0,
            "orientation": "horizontal",
            "style": "IPY_MODEL_54db21f1e062457dba0760b5c270b5f5",
            "value": 29515
          }
        },
        "2efb8fa20a754337bd023469082501d8": {
          "model_module": "@jupyter-widgets/controls",
          "model_name": "HTMLModel",
          "model_module_version": "1.5.0",
          "state": {
            "_dom_classes": [],
            "_model_module": "@jupyter-widgets/controls",
            "_model_module_version": "1.5.0",
            "_model_name": "HTMLModel",
            "_view_count": null,
            "_view_module": "@jupyter-widgets/controls",
            "_view_module_version": "1.5.0",
            "_view_name": "HTMLView",
            "description": "",
            "description_tooltip": null,
            "layout": "IPY_MODEL_0d50c070fc774f58b99ae5608c858f08",
            "placeholder": "​",
            "style": "IPY_MODEL_bc937b871eda46d68498580f6e2518bb",
            "value": " 29515/29515 [00:00&lt;00:00, 140161.55it/s]"
          }
        },
        "679128168de94ee3a342f7e5bd4e34a1": {
          "model_module": "@jupyter-widgets/base",
          "model_name": "LayoutModel",
          "model_module_version": "1.2.0",
          "state": {
            "_model_module": "@jupyter-widgets/base",
            "_model_module_version": "1.2.0",
            "_model_name": "LayoutModel",
            "_view_count": null,
            "_view_module": "@jupyter-widgets/base",
            "_view_module_version": "1.2.0",
            "_view_name": "LayoutView",
            "align_content": null,
            "align_items": null,
            "align_self": null,
            "border": null,
            "bottom": null,
            "display": null,
            "flex": null,
            "flex_flow": null,
            "grid_area": null,
            "grid_auto_columns": null,
            "grid_auto_flow": null,
            "grid_auto_rows": null,
            "grid_column": null,
            "grid_gap": null,
            "grid_row": null,
            "grid_template_areas": null,
            "grid_template_columns": null,
            "grid_template_rows": null,
            "height": null,
            "justify_content": null,
            "justify_items": null,
            "left": null,
            "margin": null,
            "max_height": null,
            "max_width": null,
            "min_height": null,
            "min_width": null,
            "object_fit": null,
            "object_position": null,
            "order": null,
            "overflow": null,
            "overflow_x": null,
            "overflow_y": null,
            "padding": null,
            "right": null,
            "top": null,
            "visibility": null,
            "width": null
          }
        },
        "6076b417ac7e4a118a34436954cd4cfa": {
          "model_module": "@jupyter-widgets/base",
          "model_name": "LayoutModel",
          "model_module_version": "1.2.0",
          "state": {
            "_model_module": "@jupyter-widgets/base",
            "_model_module_version": "1.2.0",
            "_model_name": "LayoutModel",
            "_view_count": null,
            "_view_module": "@jupyter-widgets/base",
            "_view_module_version": "1.2.0",
            "_view_name": "LayoutView",
            "align_content": null,
            "align_items": null,
            "align_self": null,
            "border": null,
            "bottom": null,
            "display": null,
            "flex": null,
            "flex_flow": null,
            "grid_area": null,
            "grid_auto_columns": null,
            "grid_auto_flow": null,
            "grid_auto_rows": null,
            "grid_column": null,
            "grid_gap": null,
            "grid_row": null,
            "grid_template_areas": null,
            "grid_template_columns": null,
            "grid_template_rows": null,
            "height": null,
            "justify_content": null,
            "justify_items": null,
            "left": null,
            "margin": null,
            "max_height": null,
            "max_width": null,
            "min_height": null,
            "min_width": null,
            "object_fit": null,
            "object_position": null,
            "order": null,
            "overflow": null,
            "overflow_x": null,
            "overflow_y": null,
            "padding": null,
            "right": null,
            "top": null,
            "visibility": null,
            "width": null
          }
        },
        "c852a1b149c24a3ea17184b4515c3a98": {
          "model_module": "@jupyter-widgets/controls",
          "model_name": "DescriptionStyleModel",
          "model_module_version": "1.5.0",
          "state": {
            "_model_module": "@jupyter-widgets/controls",
            "_model_module_version": "1.5.0",
            "_model_name": "DescriptionStyleModel",
            "_view_count": null,
            "_view_module": "@jupyter-widgets/base",
            "_view_module_version": "1.2.0",
            "_view_name": "StyleView",
            "description_width": ""
          }
        },
        "1872819533d249158cf4e03c9128f108": {
          "model_module": "@jupyter-widgets/base",
          "model_name": "LayoutModel",
          "model_module_version": "1.2.0",
          "state": {
            "_model_module": "@jupyter-widgets/base",
            "_model_module_version": "1.2.0",
            "_model_name": "LayoutModel",
            "_view_count": null,
            "_view_module": "@jupyter-widgets/base",
            "_view_module_version": "1.2.0",
            "_view_name": "LayoutView",
            "align_content": null,
            "align_items": null,
            "align_self": null,
            "border": null,
            "bottom": null,
            "display": null,
            "flex": null,
            "flex_flow": null,
            "grid_area": null,
            "grid_auto_columns": null,
            "grid_auto_flow": null,
            "grid_auto_rows": null,
            "grid_column": null,
            "grid_gap": null,
            "grid_row": null,
            "grid_template_areas": null,
            "grid_template_columns": null,
            "grid_template_rows": null,
            "height": null,
            "justify_content": null,
            "justify_items": null,
            "left": null,
            "margin": null,
            "max_height": null,
            "max_width": null,
            "min_height": null,
            "min_width": null,
            "object_fit": null,
            "object_position": null,
            "order": null,
            "overflow": null,
            "overflow_x": null,
            "overflow_y": null,
            "padding": null,
            "right": null,
            "top": null,
            "visibility": null,
            "width": null
          }
        },
        "54db21f1e062457dba0760b5c270b5f5": {
          "model_module": "@jupyter-widgets/controls",
          "model_name": "ProgressStyleModel",
          "model_module_version": "1.5.0",
          "state": {
            "_model_module": "@jupyter-widgets/controls",
            "_model_module_version": "1.5.0",
            "_model_name": "ProgressStyleModel",
            "_view_count": null,
            "_view_module": "@jupyter-widgets/base",
            "_view_module_version": "1.2.0",
            "_view_name": "StyleView",
            "bar_color": null,
            "description_width": ""
          }
        },
        "0d50c070fc774f58b99ae5608c858f08": {
          "model_module": "@jupyter-widgets/base",
          "model_name": "LayoutModel",
          "model_module_version": "1.2.0",
          "state": {
            "_model_module": "@jupyter-widgets/base",
            "_model_module_version": "1.2.0",
            "_model_name": "LayoutModel",
            "_view_count": null,
            "_view_module": "@jupyter-widgets/base",
            "_view_module_version": "1.2.0",
            "_view_name": "LayoutView",
            "align_content": null,
            "align_items": null,
            "align_self": null,
            "border": null,
            "bottom": null,
            "display": null,
            "flex": null,
            "flex_flow": null,
            "grid_area": null,
            "grid_auto_columns": null,
            "grid_auto_flow": null,
            "grid_auto_rows": null,
            "grid_column": null,
            "grid_gap": null,
            "grid_row": null,
            "grid_template_areas": null,
            "grid_template_columns": null,
            "grid_template_rows": null,
            "height": null,
            "justify_content": null,
            "justify_items": null,
            "left": null,
            "margin": null,
            "max_height": null,
            "max_width": null,
            "min_height": null,
            "min_width": null,
            "object_fit": null,
            "object_position": null,
            "order": null,
            "overflow": null,
            "overflow_x": null,
            "overflow_y": null,
            "padding": null,
            "right": null,
            "top": null,
            "visibility": null,
            "width": null
          }
        },
        "bc937b871eda46d68498580f6e2518bb": {
          "model_module": "@jupyter-widgets/controls",
          "model_name": "DescriptionStyleModel",
          "model_module_version": "1.5.0",
          "state": {
            "_model_module": "@jupyter-widgets/controls",
            "_model_module_version": "1.5.0",
            "_model_name": "DescriptionStyleModel",
            "_view_count": null,
            "_view_module": "@jupyter-widgets/base",
            "_view_module_version": "1.2.0",
            "_view_name": "StyleView",
            "description_width": ""
          }
        },
        "10bd7fc596ab4056a5a2f0c22ba6fdef": {
          "model_module": "@jupyter-widgets/controls",
          "model_name": "HBoxModel",
          "model_module_version": "1.5.0",
          "state": {
            "_dom_classes": [],
            "_model_module": "@jupyter-widgets/controls",
            "_model_module_version": "1.5.0",
            "_model_name": "HBoxModel",
            "_view_count": null,
            "_view_module": "@jupyter-widgets/controls",
            "_view_module_version": "1.5.0",
            "_view_name": "HBoxView",
            "box_style": "",
            "children": [
              "IPY_MODEL_29af8d3eb6534b5ab5b7738c9a7aff83",
              "IPY_MODEL_c97614d7735848feabb34401ec00c0f4",
              "IPY_MODEL_4f63ea6a9efd4312b2b0e548d1e211bb"
            ],
            "layout": "IPY_MODEL_4ad8755951af4d59a5c8d462fcd440df"
          }
        },
        "29af8d3eb6534b5ab5b7738c9a7aff83": {
          "model_module": "@jupyter-widgets/controls",
          "model_name": "HTMLModel",
          "model_module_version": "1.5.0",
          "state": {
            "_dom_classes": [],
            "_model_module": "@jupyter-widgets/controls",
            "_model_module_version": "1.5.0",
            "_model_name": "HTMLModel",
            "_view_count": null,
            "_view_module": "@jupyter-widgets/controls",
            "_view_module_version": "1.5.0",
            "_view_name": "HTMLView",
            "description": "",
            "description_tooltip": null,
            "layout": "IPY_MODEL_81710e5f44cb46d98449b1610853f1a0",
            "placeholder": "​",
            "style": "IPY_MODEL_c7ee95b1e1e14d88a17c08ece7cdd568",
            "value": "100%"
          }
        },
        "c97614d7735848feabb34401ec00c0f4": {
          "model_module": "@jupyter-widgets/controls",
          "model_name": "FloatProgressModel",
          "model_module_version": "1.5.0",
          "state": {
            "_dom_classes": [],
            "_model_module": "@jupyter-widgets/controls",
            "_model_module_version": "1.5.0",
            "_model_name": "FloatProgressModel",
            "_view_count": null,
            "_view_module": "@jupyter-widgets/controls",
            "_view_module_version": "1.5.0",
            "_view_name": "ProgressView",
            "bar_style": "success",
            "description": "",
            "description_tooltip": null,
            "layout": "IPY_MODEL_2b135666cf654e36a87f778d6b45b753",
            "max": 4422102,
            "min": 0,
            "orientation": "horizontal",
            "style": "IPY_MODEL_bc4d3c3824694f429e32416fa458f92e",
            "value": 4422102
          }
        },
        "4f63ea6a9efd4312b2b0e548d1e211bb": {
          "model_module": "@jupyter-widgets/controls",
          "model_name": "HTMLModel",
          "model_module_version": "1.5.0",
          "state": {
            "_dom_classes": [],
            "_model_module": "@jupyter-widgets/controls",
            "_model_module_version": "1.5.0",
            "_model_name": "HTMLModel",
            "_view_count": null,
            "_view_module": "@jupyter-widgets/controls",
            "_view_module_version": "1.5.0",
            "_view_name": "HTMLView",
            "description": "",
            "description_tooltip": null,
            "layout": "IPY_MODEL_6a35fdd92504434fa1dcfadd7354b640",
            "placeholder": "​",
            "style": "IPY_MODEL_60e7f64563a1411a9fc89fd7678d527a",
            "value": " 4422102/4422102 [00:01&lt;00:00, 3934411.77it/s]"
          }
        },
        "4ad8755951af4d59a5c8d462fcd440df": {
          "model_module": "@jupyter-widgets/base",
          "model_name": "LayoutModel",
          "model_module_version": "1.2.0",
          "state": {
            "_model_module": "@jupyter-widgets/base",
            "_model_module_version": "1.2.0",
            "_model_name": "LayoutModel",
            "_view_count": null,
            "_view_module": "@jupyter-widgets/base",
            "_view_module_version": "1.2.0",
            "_view_name": "LayoutView",
            "align_content": null,
            "align_items": null,
            "align_self": null,
            "border": null,
            "bottom": null,
            "display": null,
            "flex": null,
            "flex_flow": null,
            "grid_area": null,
            "grid_auto_columns": null,
            "grid_auto_flow": null,
            "grid_auto_rows": null,
            "grid_column": null,
            "grid_gap": null,
            "grid_row": null,
            "grid_template_areas": null,
            "grid_template_columns": null,
            "grid_template_rows": null,
            "height": null,
            "justify_content": null,
            "justify_items": null,
            "left": null,
            "margin": null,
            "max_height": null,
            "max_width": null,
            "min_height": null,
            "min_width": null,
            "object_fit": null,
            "object_position": null,
            "order": null,
            "overflow": null,
            "overflow_x": null,
            "overflow_y": null,
            "padding": null,
            "right": null,
            "top": null,
            "visibility": null,
            "width": null
          }
        },
        "81710e5f44cb46d98449b1610853f1a0": {
          "model_module": "@jupyter-widgets/base",
          "model_name": "LayoutModel",
          "model_module_version": "1.2.0",
          "state": {
            "_model_module": "@jupyter-widgets/base",
            "_model_module_version": "1.2.0",
            "_model_name": "LayoutModel",
            "_view_count": null,
            "_view_module": "@jupyter-widgets/base",
            "_view_module_version": "1.2.0",
            "_view_name": "LayoutView",
            "align_content": null,
            "align_items": null,
            "align_self": null,
            "border": null,
            "bottom": null,
            "display": null,
            "flex": null,
            "flex_flow": null,
            "grid_area": null,
            "grid_auto_columns": null,
            "grid_auto_flow": null,
            "grid_auto_rows": null,
            "grid_column": null,
            "grid_gap": null,
            "grid_row": null,
            "grid_template_areas": null,
            "grid_template_columns": null,
            "grid_template_rows": null,
            "height": null,
            "justify_content": null,
            "justify_items": null,
            "left": null,
            "margin": null,
            "max_height": null,
            "max_width": null,
            "min_height": null,
            "min_width": null,
            "object_fit": null,
            "object_position": null,
            "order": null,
            "overflow": null,
            "overflow_x": null,
            "overflow_y": null,
            "padding": null,
            "right": null,
            "top": null,
            "visibility": null,
            "width": null
          }
        },
        "c7ee95b1e1e14d88a17c08ece7cdd568": {
          "model_module": "@jupyter-widgets/controls",
          "model_name": "DescriptionStyleModel",
          "model_module_version": "1.5.0",
          "state": {
            "_model_module": "@jupyter-widgets/controls",
            "_model_module_version": "1.5.0",
            "_model_name": "DescriptionStyleModel",
            "_view_count": null,
            "_view_module": "@jupyter-widgets/base",
            "_view_module_version": "1.2.0",
            "_view_name": "StyleView",
            "description_width": ""
          }
        },
        "2b135666cf654e36a87f778d6b45b753": {
          "model_module": "@jupyter-widgets/base",
          "model_name": "LayoutModel",
          "model_module_version": "1.2.0",
          "state": {
            "_model_module": "@jupyter-widgets/base",
            "_model_module_version": "1.2.0",
            "_model_name": "LayoutModel",
            "_view_count": null,
            "_view_module": "@jupyter-widgets/base",
            "_view_module_version": "1.2.0",
            "_view_name": "LayoutView",
            "align_content": null,
            "align_items": null,
            "align_self": null,
            "border": null,
            "bottom": null,
            "display": null,
            "flex": null,
            "flex_flow": null,
            "grid_area": null,
            "grid_auto_columns": null,
            "grid_auto_flow": null,
            "grid_auto_rows": null,
            "grid_column": null,
            "grid_gap": null,
            "grid_row": null,
            "grid_template_areas": null,
            "grid_template_columns": null,
            "grid_template_rows": null,
            "height": null,
            "justify_content": null,
            "justify_items": null,
            "left": null,
            "margin": null,
            "max_height": null,
            "max_width": null,
            "min_height": null,
            "min_width": null,
            "object_fit": null,
            "object_position": null,
            "order": null,
            "overflow": null,
            "overflow_x": null,
            "overflow_y": null,
            "padding": null,
            "right": null,
            "top": null,
            "visibility": null,
            "width": null
          }
        },
        "bc4d3c3824694f429e32416fa458f92e": {
          "model_module": "@jupyter-widgets/controls",
          "model_name": "ProgressStyleModel",
          "model_module_version": "1.5.0",
          "state": {
            "_model_module": "@jupyter-widgets/controls",
            "_model_module_version": "1.5.0",
            "_model_name": "ProgressStyleModel",
            "_view_count": null,
            "_view_module": "@jupyter-widgets/base",
            "_view_module_version": "1.2.0",
            "_view_name": "StyleView",
            "bar_color": null,
            "description_width": ""
          }
        },
        "6a35fdd92504434fa1dcfadd7354b640": {
          "model_module": "@jupyter-widgets/base",
          "model_name": "LayoutModel",
          "model_module_version": "1.2.0",
          "state": {
            "_model_module": "@jupyter-widgets/base",
            "_model_module_version": "1.2.0",
            "_model_name": "LayoutModel",
            "_view_count": null,
            "_view_module": "@jupyter-widgets/base",
            "_view_module_version": "1.2.0",
            "_view_name": "LayoutView",
            "align_content": null,
            "align_items": null,
            "align_self": null,
            "border": null,
            "bottom": null,
            "display": null,
            "flex": null,
            "flex_flow": null,
            "grid_area": null,
            "grid_auto_columns": null,
            "grid_auto_flow": null,
            "grid_auto_rows": null,
            "grid_column": null,
            "grid_gap": null,
            "grid_row": null,
            "grid_template_areas": null,
            "grid_template_columns": null,
            "grid_template_rows": null,
            "height": null,
            "justify_content": null,
            "justify_items": null,
            "left": null,
            "margin": null,
            "max_height": null,
            "max_width": null,
            "min_height": null,
            "min_width": null,
            "object_fit": null,
            "object_position": null,
            "order": null,
            "overflow": null,
            "overflow_x": null,
            "overflow_y": null,
            "padding": null,
            "right": null,
            "top": null,
            "visibility": null,
            "width": null
          }
        },
        "60e7f64563a1411a9fc89fd7678d527a": {
          "model_module": "@jupyter-widgets/controls",
          "model_name": "DescriptionStyleModel",
          "model_module_version": "1.5.0",
          "state": {
            "_model_module": "@jupyter-widgets/controls",
            "_model_module_version": "1.5.0",
            "_model_name": "DescriptionStyleModel",
            "_view_count": null,
            "_view_module": "@jupyter-widgets/base",
            "_view_module_version": "1.2.0",
            "_view_name": "StyleView",
            "description_width": ""
          }
        },
        "b18738e639204493a6daacf0325a029b": {
          "model_module": "@jupyter-widgets/controls",
          "model_name": "HBoxModel",
          "model_module_version": "1.5.0",
          "state": {
            "_dom_classes": [],
            "_model_module": "@jupyter-widgets/controls",
            "_model_module_version": "1.5.0",
            "_model_name": "HBoxModel",
            "_view_count": null,
            "_view_module": "@jupyter-widgets/controls",
            "_view_module_version": "1.5.0",
            "_view_name": "HBoxView",
            "box_style": "",
            "children": [
              "IPY_MODEL_10341c991ccf423483637b646be157dc",
              "IPY_MODEL_444c9e68905845fb90853b7b84519b46",
              "IPY_MODEL_7b037ac3a6614371bc7a6b3a84faf30b"
            ],
            "layout": "IPY_MODEL_7983940bab5e419f996358050e662a13"
          }
        },
        "10341c991ccf423483637b646be157dc": {
          "model_module": "@jupyter-widgets/controls",
          "model_name": "HTMLModel",
          "model_module_version": "1.5.0",
          "state": {
            "_dom_classes": [],
            "_model_module": "@jupyter-widgets/controls",
            "_model_module_version": "1.5.0",
            "_model_name": "HTMLModel",
            "_view_count": null,
            "_view_module": "@jupyter-widgets/controls",
            "_view_module_version": "1.5.0",
            "_view_name": "HTMLView",
            "description": "",
            "description_tooltip": null,
            "layout": "IPY_MODEL_9c17ed24ced14151aa4ba233cf43beb7",
            "placeholder": "​",
            "style": "IPY_MODEL_d058b709c745402c9e77266d050d3064",
            "value": "100%"
          }
        },
        "444c9e68905845fb90853b7b84519b46": {
          "model_module": "@jupyter-widgets/controls",
          "model_name": "FloatProgressModel",
          "model_module_version": "1.5.0",
          "state": {
            "_dom_classes": [],
            "_model_module": "@jupyter-widgets/controls",
            "_model_module_version": "1.5.0",
            "_model_name": "FloatProgressModel",
            "_view_count": null,
            "_view_module": "@jupyter-widgets/controls",
            "_view_module_version": "1.5.0",
            "_view_name": "ProgressView",
            "bar_style": "success",
            "description": "",
            "description_tooltip": null,
            "layout": "IPY_MODEL_5ae39f0cc5dd4d61a968b5bc1aaa3bce",
            "max": 5148,
            "min": 0,
            "orientation": "horizontal",
            "style": "IPY_MODEL_d19eae8cf3fb4b599029d0218f6c6da0",
            "value": 5148
          }
        },
        "7b037ac3a6614371bc7a6b3a84faf30b": {
          "model_module": "@jupyter-widgets/controls",
          "model_name": "HTMLModel",
          "model_module_version": "1.5.0",
          "state": {
            "_dom_classes": [],
            "_model_module": "@jupyter-widgets/controls",
            "_model_module_version": "1.5.0",
            "_model_name": "HTMLModel",
            "_view_count": null,
            "_view_module": "@jupyter-widgets/controls",
            "_view_module_version": "1.5.0",
            "_view_name": "HTMLView",
            "description": "",
            "description_tooltip": null,
            "layout": "IPY_MODEL_76b554d3f55b4cbeacf48c93547e22c0",
            "placeholder": "​",
            "style": "IPY_MODEL_a71ccdc45f1c466d9340278fe0f727c6",
            "value": " 5148/5148 [00:00&lt;00:00, 67541.51it/s]"
          }
        },
        "7983940bab5e419f996358050e662a13": {
          "model_module": "@jupyter-widgets/base",
          "model_name": "LayoutModel",
          "model_module_version": "1.2.0",
          "state": {
            "_model_module": "@jupyter-widgets/base",
            "_model_module_version": "1.2.0",
            "_model_name": "LayoutModel",
            "_view_count": null,
            "_view_module": "@jupyter-widgets/base",
            "_view_module_version": "1.2.0",
            "_view_name": "LayoutView",
            "align_content": null,
            "align_items": null,
            "align_self": null,
            "border": null,
            "bottom": null,
            "display": null,
            "flex": null,
            "flex_flow": null,
            "grid_area": null,
            "grid_auto_columns": null,
            "grid_auto_flow": null,
            "grid_auto_rows": null,
            "grid_column": null,
            "grid_gap": null,
            "grid_row": null,
            "grid_template_areas": null,
            "grid_template_columns": null,
            "grid_template_rows": null,
            "height": null,
            "justify_content": null,
            "justify_items": null,
            "left": null,
            "margin": null,
            "max_height": null,
            "max_width": null,
            "min_height": null,
            "min_width": null,
            "object_fit": null,
            "object_position": null,
            "order": null,
            "overflow": null,
            "overflow_x": null,
            "overflow_y": null,
            "padding": null,
            "right": null,
            "top": null,
            "visibility": null,
            "width": null
          }
        },
        "9c17ed24ced14151aa4ba233cf43beb7": {
          "model_module": "@jupyter-widgets/base",
          "model_name": "LayoutModel",
          "model_module_version": "1.2.0",
          "state": {
            "_model_module": "@jupyter-widgets/base",
            "_model_module_version": "1.2.0",
            "_model_name": "LayoutModel",
            "_view_count": null,
            "_view_module": "@jupyter-widgets/base",
            "_view_module_version": "1.2.0",
            "_view_name": "LayoutView",
            "align_content": null,
            "align_items": null,
            "align_self": null,
            "border": null,
            "bottom": null,
            "display": null,
            "flex": null,
            "flex_flow": null,
            "grid_area": null,
            "grid_auto_columns": null,
            "grid_auto_flow": null,
            "grid_auto_rows": null,
            "grid_column": null,
            "grid_gap": null,
            "grid_row": null,
            "grid_template_areas": null,
            "grid_template_columns": null,
            "grid_template_rows": null,
            "height": null,
            "justify_content": null,
            "justify_items": null,
            "left": null,
            "margin": null,
            "max_height": null,
            "max_width": null,
            "min_height": null,
            "min_width": null,
            "object_fit": null,
            "object_position": null,
            "order": null,
            "overflow": null,
            "overflow_x": null,
            "overflow_y": null,
            "padding": null,
            "right": null,
            "top": null,
            "visibility": null,
            "width": null
          }
        },
        "d058b709c745402c9e77266d050d3064": {
          "model_module": "@jupyter-widgets/controls",
          "model_name": "DescriptionStyleModel",
          "model_module_version": "1.5.0",
          "state": {
            "_model_module": "@jupyter-widgets/controls",
            "_model_module_version": "1.5.0",
            "_model_name": "DescriptionStyleModel",
            "_view_count": null,
            "_view_module": "@jupyter-widgets/base",
            "_view_module_version": "1.2.0",
            "_view_name": "StyleView",
            "description_width": ""
          }
        },
        "5ae39f0cc5dd4d61a968b5bc1aaa3bce": {
          "model_module": "@jupyter-widgets/base",
          "model_name": "LayoutModel",
          "model_module_version": "1.2.0",
          "state": {
            "_model_module": "@jupyter-widgets/base",
            "_model_module_version": "1.2.0",
            "_model_name": "LayoutModel",
            "_view_count": null,
            "_view_module": "@jupyter-widgets/base",
            "_view_module_version": "1.2.0",
            "_view_name": "LayoutView",
            "align_content": null,
            "align_items": null,
            "align_self": null,
            "border": null,
            "bottom": null,
            "display": null,
            "flex": null,
            "flex_flow": null,
            "grid_area": null,
            "grid_auto_columns": null,
            "grid_auto_flow": null,
            "grid_auto_rows": null,
            "grid_column": null,
            "grid_gap": null,
            "grid_row": null,
            "grid_template_areas": null,
            "grid_template_columns": null,
            "grid_template_rows": null,
            "height": null,
            "justify_content": null,
            "justify_items": null,
            "left": null,
            "margin": null,
            "max_height": null,
            "max_width": null,
            "min_height": null,
            "min_width": null,
            "object_fit": null,
            "object_position": null,
            "order": null,
            "overflow": null,
            "overflow_x": null,
            "overflow_y": null,
            "padding": null,
            "right": null,
            "top": null,
            "visibility": null,
            "width": null
          }
        },
        "d19eae8cf3fb4b599029d0218f6c6da0": {
          "model_module": "@jupyter-widgets/controls",
          "model_name": "ProgressStyleModel",
          "model_module_version": "1.5.0",
          "state": {
            "_model_module": "@jupyter-widgets/controls",
            "_model_module_version": "1.5.0",
            "_model_name": "ProgressStyleModel",
            "_view_count": null,
            "_view_module": "@jupyter-widgets/base",
            "_view_module_version": "1.2.0",
            "_view_name": "StyleView",
            "bar_color": null,
            "description_width": ""
          }
        },
        "76b554d3f55b4cbeacf48c93547e22c0": {
          "model_module": "@jupyter-widgets/base",
          "model_name": "LayoutModel",
          "model_module_version": "1.2.0",
          "state": {
            "_model_module": "@jupyter-widgets/base",
            "_model_module_version": "1.2.0",
            "_model_name": "LayoutModel",
            "_view_count": null,
            "_view_module": "@jupyter-widgets/base",
            "_view_module_version": "1.2.0",
            "_view_name": "LayoutView",
            "align_content": null,
            "align_items": null,
            "align_self": null,
            "border": null,
            "bottom": null,
            "display": null,
            "flex": null,
            "flex_flow": null,
            "grid_area": null,
            "grid_auto_columns": null,
            "grid_auto_flow": null,
            "grid_auto_rows": null,
            "grid_column": null,
            "grid_gap": null,
            "grid_row": null,
            "grid_template_areas": null,
            "grid_template_columns": null,
            "grid_template_rows": null,
            "height": null,
            "justify_content": null,
            "justify_items": null,
            "left": null,
            "margin": null,
            "max_height": null,
            "max_width": null,
            "min_height": null,
            "min_width": null,
            "object_fit": null,
            "object_position": null,
            "order": null,
            "overflow": null,
            "overflow_x": null,
            "overflow_y": null,
            "padding": null,
            "right": null,
            "top": null,
            "visibility": null,
            "width": null
          }
        },
        "a71ccdc45f1c466d9340278fe0f727c6": {
          "model_module": "@jupyter-widgets/controls",
          "model_name": "DescriptionStyleModel",
          "model_module_version": "1.5.0",
          "state": {
            "_model_module": "@jupyter-widgets/controls",
            "_model_module_version": "1.5.0",
            "_model_name": "DescriptionStyleModel",
            "_view_count": null,
            "_view_module": "@jupyter-widgets/base",
            "_view_module_version": "1.2.0",
            "_view_name": "StyleView",
            "description_width": ""
          }
        }
      }
    }
  },
  "nbformat": 4,
  "nbformat_minor": 0
}